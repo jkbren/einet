{
 "cells": [
  {
   "cell_type": "markdown",
   "metadata": {},
   "source": [
    "## Continuation of `einet` notebook \n",
    "\n",
    "Here we apply the main tools and functionality of netrd to various datasets.\n",
    "\n",
    "Created by @liubov\n",
    "Inspiration from coauthor of `einet` and `netrd` Brennan Klein.\n",
    "\n",
    "## Effective information and network efficiency calculation \n",
    "\n",
    "The connectivity of a network conveys information about the dependencies between nodes. In https://arxiv.org/abs/1907.03902 authors showed that this information can be analyzed by measuring the uncertainty (and certainty) contained in paths along nodes and links in a network. \n",
    "\n",
    "Specifically, we apply here effective information and describe its behavior in \"real\" networks."
   ]
  },
  {
   "cell_type": "markdown",
   "metadata": {},
   "source": [
    "## 1. Loading data \n",
    "\n",
    "We first load matrices of various networks and then we generate networks from these networks. \n",
    "\n",
    "We also generate some specific directed and undirected networks in order to test EI measure on them (work in progress).\n",
    "For each network we have the Transition-Probability Matrices (TPM) for which we will calculate the EI global measure.\n",
    "\n",
    "*Note*: while generating networks we should check that the network have edge weights that sum to 1.0: \n",
    "    G = check_network(G)\n",
    "    N = G.number_of_nodes()\n"
   ]
  },
  {
   "cell_type": "code",
   "execution_count": 8,
   "metadata": {},
   "outputs": [],
   "source": [
    "import networkx as nx\n",
    "import numpy as np\n",
    "\n",
    "# 1. Generate a network\n",
    "n=10\n",
    "G = nx.star_graph(n)\n",
    "\n",
    "n = 15 \n",
    "k = 2\n",
    "p = 0.5\n",
    "G = nx.watts_strogatz_graph(n, k, p)\n",
    "\n",
    "\n",
    "\n",
    "Star_dir      = np.array([[1.0, 0.0, 0.0, 0.0],\n",
    "                      [1.0, 0.0, 0.0, 0.0],\n",
    "                      [1.0, 0.0, 0.0, 0.0],\n",
    "                      [1.0, 0.0, 0.0, 0.0]])\n",
    "\n",
    "\n",
    "\n",
    "Star_undir      = np.array([[0.25, 0.25, 0.25, 0.25],\n",
    "                      [1.0, 0.0, 0.0, 0.0],\n",
    "                      [1.0, 0.0, 0.0, 0.0],\n",
    "                      [1.0, 0.0, 0.0, 0.0]])\n",
    "\n",
    "Clique_undir = np.array([[0.25, 0.25, 0.25, 0.25],\n",
    "                      [0.25, 0.25, 0.25, 0.25],\n",
    "                      [0.25, 0.25, 0.25, 0.25],\n",
    "                      [0.25, 0.25, 0.25, 0.25]])\n",
    "\n",
    "#(fully connected network) \n",
    "\n",
    "Clique_dir = np.array([[0.5, 0.5, 0.0, 0.0],\n",
    "                      [0.0, 1.0, 0.0, 0.0],\n",
    "                      [0.25, 0.25, 0.25, 0.25],\n",
    "                      [0.5, 0.5, 0.0, 0.0]])\n",
    "\n",
    "#(fully connected network with directed links)\n"
   ]
  },
  {
   "cell_type": "code",
   "execution_count": 21,
   "metadata": {},
   "outputs": [
    {
     "data": {
      "image/png": "[encoded data removed]",
      "text/plain": [
       "<Figure size 432x288 with 1 Axes>"
      ]
     },
     "metadata": {},
     "output_type": "display_data"
    },
    {
     "data": {
      "image/png": "[encoded data removed]",
      "text/plain": [
       "<Figure size 432x288 with 1 Axes>"
      ]
     },
     "metadata": {},
     "output_type": "display_data"
    }
   ],
   "source": [
    "#plot networks\n",
    "import numpy as np\n",
    "from matplotlib import pyplot as plt\n",
    "import networkx as nx\n",
    "\n",
    "G_undir = nx.from_numpy_matrix(Star_undir)\n",
    "G_undir = nx.DiGraph(G_undir)\n",
    "nx.draw_networkx(G_undir, arrows=True)\n",
    "plt.show()\n",
    "\n",
    "G_cliq = nx.from_numpy_matrix(Clique_undir)\n",
    "G_cliq = nx.DiGraph(G_cliq)\n",
    "nx.draw_networkx(G_cliq, arrows=True)\n",
    "\n",
    "\n",
    "plt.show()\n"
   ]
  },
  {
   "cell_type": "markdown",
   "metadata": {},
   "source": [
    "Now we can compareeffective information for star directed vs.underected graphs for simple graph topologies.\n"
   ]
  },
  {
   "cell_type": "code",
   "execution_count": 11,
   "metadata": {},
   "outputs": [
    {
     "name": "stdout",
     "output_type": "stream",
     "text": [
      "effective_information of star directed network  0.4933927290103627\n",
      "effective_information of star undirected network (links have both directions)  0.0\n",
      "effective information of directed fully connected clique  0.49131465703639843\n",
      "effective information of fully connected clique (links have both directions)  0.0\n"
     ]
    }
   ],
   "source": [
    "from ei_net import *\n",
    "import networkx as nx\n",
    "\n",
    "print(\"effective_information of star directed network \", effective_information(Star_undir))\n",
    "\n",
    "print(\"effective_information of star undirected network (links have both directions) \", effective_information(Star_dir))\n",
    "\n",
    "\n",
    "# draw the networks and give explanation of networks\n",
    "\n",
    "print(\"effective information of directed fully connected clique \", effective_information(Clique_dir))\n",
    "\n",
    "print(\"effective information of fully connected clique (links have both directions) \", effective_information(Clique_undir))\n"
   ]
  },
  {
   "cell_type": "code",
   "execution_count": 46,
   "metadata": {},
   "outputs": [],
   "source": [
    "def threshold_matr(matrix, threshold):\n",
    "    #function to threshold values of adjacency matrix\n",
    "    #optimal thresholding does not work sometimes\n",
    "    \n",
    "    matrix[(matrix) < threshold] = 0.0\n",
    "    \n",
    "    return matrix\n",
    "\n"
   ]
  },
  {
   "cell_type": "code",
   "execution_count": 61,
   "metadata": {},
   "outputs": [],
   "source": [
    "def thresh_matr_nonopt(matrix, threshold):\n",
    "    #non-optimal function to threshold values of adjacency matrix with float \n",
    "    \n",
    "    size = np.shape(matrix)\n",
    "    \n",
    "    matr_thresh = np.zeros((int(size[0]),int(size[0])))\n",
    "    \n",
    "    for i in range(int(size[0])):\n",
    "        for k in range(int(size[0])):\n",
    "            if np.float(matrix[i,k])>threshold:\n",
    "                matr_thresh[i,k] = 1\n",
    "    return matr_thresh"
   ]
  },
  {
   "cell_type": "code",
   "execution_count": 66,
   "metadata": {},
   "outputs": [
    {
     "name": "stdout",
     "output_type": "stream",
     "text": [
      "loading unthresholded climate network\n",
      "shape of climate network (468, 468)\n",
      "nonzero 219024\n",
      "nonzero 9.571492537918885324e-01\n",
      "nonzero after threshold 189742\n",
      "calculating climate network\n"
     ]
    }
   ],
   "source": [
    "# loading data from matrix \n",
    "\n",
    "import pandas as pd\n",
    "import csv\n",
    "import numpy as np\n",
    "\n",
    "# load data \n",
    "print('loading unthresholded climate network')\n",
    "datContent = [i.strip().split() for i in open(\"C:/Users/lyubo/Documents/DATA_networks/climate_data/ClimateNetworks/correlation_matrix_anomalies_temp_1970_2010.dat\").readlines()]\n",
    "\n",
    "print('shape of climate network', np.shape(datContent))\n",
    "matr = np.array(datContent)\n",
    "print('nonzero', (np.count_nonzero(matr)))\n",
    "print('nonzero', matr[1,2])\n",
    "\n",
    "\n",
    "matr_thresh = thresh_matr_nonopt(matr, 0.0005) #threshold_matr\n",
    "print('nonzero after threshold', (np.count_nonzero(matr_thresh)))\n",
    "\n",
    "print('calculating climate network')\n",
    "G_clim = nx.from_numpy_matrix(matr_thresh)\n",
    "\n",
    "# write it as a new CSV file\n",
    "#with open(\"./clim_net.csv\", \"wb\") as f:\n",
    "#    writer = csv.writer(f)\n",
    "#    writer.writerows(datContent)\n",
    "    \n",
    "#df = pd.read_csv('./clim_net.csv')#('C:/Users/lyubo/Documents/DATA_networks/climate_data/ClimateNetworks/correlation_matrix_anomalies_temp_1970_2010.dat')\n",
    "\n"
   ]
  },
  {
   "cell_type": "markdown",
   "metadata": {},
   "source": [
    "## 2. Estimation of effective information measure for a network\n",
    "\n",
    "\n",
    "#### Definition.\n",
    "From   two properties: 1. the uncertainty in the relationships among the nodes' out-weights (possible effects)  $\\langle H(W^{out}_{i} )\\rangle $, in-weights (possible causes) and 2.  how weight is distributed across the whole network, $H(\\langle W^{out}_{i}\\rangle)$, we can derive the amount of information in a network's causal structure, the *effective information* ($EI$), as:\n",
    "\n",
    "$$ EI = H(\\langle W^{out}_{i} \\rangle) - \\langle {H}(W^{out}_{i}) \\rangle $$ \n",
    "\n",
    "\n",
    "#### The main idea\n",
    "Networks with high $EI$ contain more certainty in the relationships between nodes in the network (since the links represent greater dependencies), whereas networks with low $EI$ contain less certainty.\n",
    "\n",
    "#### The main questions \n",
    "\n",
    "1. How directionality of networks can influence $EI$ values for random networks?\n",
    "2. How much thresholding real networks (for weighted ones) can reduce the $EI$ measure?\n",
    "\n",
    "[1] Uncertainty and causal emergence in complex networks Brennan Klein and Erik Hoel, 2019. arXiv:1907.03902\n"
   ]
  },
  {
   "cell_type": "code",
   "execution_count": 24,
   "metadata": {},
   "outputs": [
    {
     "name": "stdout",
     "output_type": "stream",
     "text": [
      "effective_information(G) = 2.3500950888734686\n"
     ]
    }
   ],
   "source": [
    "from ei_net import *\n",
    "import networkx as nx\n",
    "G = nx.karate_club_graph()\n",
    "print(\"effective_information(G) =\", effective_information(G))"
   ]
  },
  {
   "cell_type": "code",
   "execution_count": 67,
   "metadata": {},
   "outputs": [
    {
     "name": "stdout",
     "output_type": "stream",
     "text": [
      "effective_information of climate network  0.206522955805454\n"
     ]
    }
   ],
   "source": [
    "from ei_net import *\n",
    "import networkx as nx\n",
    "\n",
    "print(\"effective_information of climate network \", effective_information(G_clim))"
   ]
  },
  {
   "cell_type": "markdown",
   "metadata": {},
   "source": [
    "## Network effective information change vs. thresholding\n",
    "\n",
    "Now we are testing effective information for differnt thrshold values.\n",
    "Obvisously, when we threshold the matrix, the network becomes more \"easy\". But here is the question is WHEN it happens.\n",
    "\n",
    "The main idea behind it is that usually it is quite challenging the choose the right threshold $\\theta$ value.\n",
    "Here the main idea is to calculate the moment when $EI$ of the network is dropping. This would be $\\theta_{opt}$ optimal threshold. \n",
    "\n"
   ]
  },
  {
   "cell_type": "code",
   "execution_count": 81,
   "metadata": {},
   "outputs": [
    {
     "name": "stdout",
     "output_type": "stream",
     "text": [
      "0.0\n",
      "nonzero after threshold 190076\n",
      "calculating climate network\n",
      "0.02040816326530612\n",
      "nonzero after threshold 174002\n",
      "calculating climate network\n",
      "0.04081632653061224\n",
      "nonzero after threshold 152052\n",
      "calculating climate network\n",
      "0.061224489795918366\n",
      "nonzero after threshold 127588\n",
      "calculating climate network\n",
      "0.08163265306122448\n",
      "nonzero after threshold 105240\n",
      "calculating climate network\n",
      "0.1020408163265306\n",
      "nonzero after threshold 88730\n",
      "calculating climate network\n",
      "0.12244897959183673\n",
      "nonzero after threshold 76076\n",
      "calculating climate network\n",
      "0.14285714285714285\n",
      "nonzero after threshold 66630\n",
      "calculating climate network\n",
      "0.16326530612244897\n",
      "nonzero after threshold 59182\n",
      "calculating climate network\n",
      "0.18367346938775508\n",
      "nonzero after threshold 52878\n",
      "calculating climate network\n",
      "0.2040816326530612\n",
      "nonzero after threshold 47226\n",
      "calculating climate network\n",
      "0.22448979591836732\n",
      "nonzero after threshold 42058\n",
      "calculating climate network\n",
      "0.24489795918367346\n",
      "nonzero after threshold 37652\n",
      "calculating climate network\n",
      "0.26530612244897955\n",
      "nonzero after threshold 33438\n",
      "calculating climate network\n",
      "0.2857142857142857\n",
      "nonzero after threshold 29796\n",
      "calculating climate network\n",
      "0.3061224489795918\n",
      "nonzero after threshold 26524\n",
      "calculating climate network\n",
      "0.32653061224489793\n",
      "nonzero after threshold 23602\n",
      "calculating climate network\n",
      "0.3469387755102041\n",
      "nonzero after threshold 20948\n",
      "calculating climate network\n",
      "0.36734693877551017\n",
      "nonzero after threshold 18542\n",
      "calculating climate network\n",
      "0.3877551020408163\n",
      "nonzero after threshold 16498\n",
      "calculating climate network\n",
      "0.4081632653061224\n",
      "nonzero after threshold 14804\n",
      "calculating climate network\n",
      "0.42857142857142855\n",
      "nonzero after threshold 13326\n",
      "calculating climate network\n",
      "0.44897959183673464\n",
      "nonzero after threshold 11908\n",
      "calculating climate network\n",
      "0.4693877551020408\n",
      "nonzero after threshold 10666\n",
      "calculating climate network\n",
      "0.4897959183673469\n",
      "nonzero after threshold 9682\n",
      "calculating climate network\n",
      "0.5102040816326531\n",
      "nonzero after threshold 8758\n",
      "calculating climate network\n",
      "0.5306122448979591\n",
      "nonzero after threshold 7968\n",
      "calculating climate network\n",
      "0.5510204081632653\n",
      "nonzero after threshold 7328\n",
      "calculating climate network\n",
      "0.5714285714285714\n",
      "nonzero after threshold 6660\n",
      "calculating climate network\n",
      "0.5918367346938775\n",
      "nonzero after threshold 6110\n",
      "calculating climate network\n",
      "0.6122448979591836\n",
      "nonzero after threshold 5562\n",
      "calculating climate network\n",
      "0.6326530612244897\n",
      "nonzero after threshold 5044\n",
      "calculating climate network\n",
      "0.6530612244897959\n",
      "nonzero after threshold 4572\n",
      "calculating climate network\n",
      "0.673469387755102\n",
      "nonzero after threshold 4186\n",
      "calculating climate network\n",
      "0.6938775510204082\n",
      "nonzero after threshold 3820\n",
      "calculating climate network\n",
      "0.7142857142857142\n",
      "nonzero after threshold 3474\n",
      "calculating climate network\n",
      "0.7346938775510203\n",
      "nonzero after threshold 3110\n",
      "calculating climate network\n",
      "0.7551020408163265\n",
      "nonzero after threshold 2716\n",
      "calculating climate network\n",
      "0.7755102040816326\n",
      "nonzero after threshold 2358\n",
      "calculating climate network\n",
      "0.7959183673469387\n",
      "nonzero after threshold 1990\n",
      "calculating climate network\n",
      "0.8163265306122448\n",
      "nonzero after threshold 1674\n",
      "calculating climate network\n",
      "0.836734693877551\n",
      "nonzero after threshold 1370\n",
      "calculating climate network\n",
      "0.8571428571428571\n",
      "nonzero after threshold 1164\n",
      "calculating climate network\n",
      "0.8775510204081632\n",
      "nonzero after threshold 982\n",
      "calculating climate network\n",
      "0.8979591836734693\n",
      "nonzero after threshold 814\n",
      "calculating climate network\n",
      "0.9183673469387754\n",
      "nonzero after threshold 642\n",
      "calculating climate network\n",
      "0.9387755102040816\n",
      "nonzero after threshold 530\n",
      "calculating climate network\n",
      "0.9591836734693877\n",
      "nonzero after threshold 472\n",
      "calculating climate network\n",
      "0.9795918367346939\n",
      "nonzero after threshold 468\n",
      "calculating climate network\n",
      "1.0\n",
      "nonzero after threshold 0\n",
      "calculating climate network\n"
     ]
    },
    {
     "data": {
      "image/png": "[encoded data removed]",
      "text/plain": [
       "<Figure size 432x288 with 1 Axes>"
      ]
     },
     "metadata": {
      "needs_background": "light"
     },
     "output_type": "display_data"
    },
    {
     "data": {
      "image/png": "[encoded data removed]",
      "text/plain": [
       "<Figure size 432x288 with 1 Axes>"
      ]
     },
     "metadata": {
      "needs_background": "light"
     },
     "output_type": "display_data"
    }
   ],
   "source": [
    "# now we are testing effective information for differnt thrshold values\n",
    "import matplotlib.pyplot as plt\n",
    "\n",
    "steps = 50 #number of steps for different thresholds applied to networks\n",
    "EI_clim = np.zeros(steps)\n",
    "N_nnz = np.zeros(steps)\n",
    "ind = 0\n",
    "\n",
    "for thresh_ind in np.linspace(0, 1, steps):\n",
    "    #threshold a matrix with thresh_ind value  \n",
    "    \n",
    "    print(thresh_ind)\n",
    "    #build a network from thresholding initial matrix \"matr\"\n",
    "    \n",
    "    matr_thresh = thresh_matr_nonopt(matr, thresh_ind) #threshold_matr\n",
    "    print('nonzero after threshold', (np.count_nonzero(matr_thresh)))\n",
    "    \n",
    "    N_nnz[ind] = np.count_nonzero(matr_thresh)\n",
    "\n",
    "    print('calculating climate network')\n",
    "    G_clim = nx.from_numpy_matrix(matr_thresh)\n",
    "    \n",
    "    EI_clim[ind] = effective_information(G_clim)\n",
    "    \n",
    "    ind = ind +1\n",
    "\n",
    "    \n",
    "# plot number of nonzero values after each thresholding \n",
    "xarray = np.linspace(0, 1, steps)\n",
    "plt.plot(xarray, EI_clim, 'o-')\n",
    "plt.xlabel('threshold')\n",
    "plt.ylabel('EI measure')\n",
    "\n",
    "plt.show()\n",
    "\n",
    "# plot EI of efficiency matrix \n",
    "plt.plot(xarray,N_nnz, 'ro-')\n",
    "plt.xlabel('threshold')\n",
    "plt.ylabel('number of non-zero elements')\n",
    "plt.show()\n",
    "    "
   ]
  },
  {
   "cell_type": "code",
   "execution_count": null,
   "metadata": {},
   "outputs": [],
   "source": []
  }
 ],
 "metadata": {
  "kernelspec": {
   "display_name": "Python 3",
   "language": "python",
   "name": "python3"
  },
  "language_info": {
   "codemirror_mode": {
    "name": "ipython",
    "version": 3
   },
   "file_extension": ".py",
   "mimetype": "text/x-python",
   "name": "python",
   "nbconvert_exporter": "python",
   "pygments_lexer": "ipython3",
   "version": "3.6.7"
  }
 },
 "nbformat": 4,
 "nbformat_minor": 2
}
